{
 "cells": [
  {
   "cell_type": "markdown",
   "metadata": {},
   "source": [
    "# IEM 510 Project\n",
    "\n",
    "### Project members: Jayesh Yevale \\& Prerna Rathi"
   ]
  },
  {
   "cell_type": "code",
   "execution_count": 7,
   "metadata": {},
   "outputs": [],
   "source": [
    "import numpy as np\n",
    "import pandas as pd\n",
    "import matplotlib.pyplot as plt\n",
    "import matplotlib as mpl\n",
    "import networkx as nx\n",
    "import seaborn as sb\n",
    "from math import *\n",
    "import time\n",
    "import random \n",
    "from numpy import linalg as LA\n",
    "from sklearn.datasets import fetch_openml\n",
    "from sklearn.metrics import confusion_matrix, precision_score, recall_score,f1_score\n",
    "import copy\n",
    "import warnings\n",
    "import pickle\n",
    "warnings.filterwarnings(\"ignore\", category=UserWarning)\n",
    "plt.rcParams.update({\"text.usetex\": True})"
   ]
  },
  {
   "cell_type": "markdown",
   "metadata": {},
   "source": [
    "\\begin{align*}\n",
    "&\\underset{{x \\in \\mathbb{R}^n}}{\\mathrm{minimize}} \\quad f(x) \\qquad &&\\hbox{where } f(x) \\triangleq \\frac{1}{|\\mathcal{S}|}{\\sum_{\\ell \\in \\mathcal{S}}} \\ln \\left(1+\\exp\\left(-v_\\ell u_\\ell^Tx\\right)\\right)+\\frac{\\mu}{2}\\|x\\|^2\\\\\n",
    "&\\underset{{x \\in \\mathbb{R}^n}}{\\mathrm{minimize}}\\quad \\sum_{i=1}^m f_i(x) \\qquad &&\\hbox{where } f_i(x)\\triangleq \\frac{1}{|\\mathcal{S}|}\\sum_{\\ell \\in \\mathcal{S}_i}\\ln \\left(1+\\exp\\left(-v_\\ell u_\\ell^Tx\\right)\\right)+\\frac{\\mu}{2m}\\|x\\|^2,\n",
    "\\end{align*}\n",
    "where $\\ell$ denotes the index of a sample from the set $\\mathcal{S}_i$."
   ]
  },
  {
   "cell_type": "markdown",
   "metadata": {},
   "source": [
    "\\begin{align}\n",
    "\\nabla f_i(x) = \\frac{1}{|\\mathcal{S}|}\\sum_{\\ell\\in\\mathcal{S}_i} \\frac{-v_\\ell u_\\ell}{\\left(1+\\exp\\left(v_\\ell u_\\ell^Tx\\right)\\right)} + \\frac{\\mu}{m} x,\n",
    "\\end{align}"
   ]
  },
  {
   "cell_type": "markdown",
   "metadata": {},
   "source": [
    "#### Download and reformat MNIST dataset"
   ]
  },
  {
   "cell_type": "code",
   "execution_count": 8,
   "metadata": {},
   "outputs": [],
   "source": [
    "mnist = fetch_openml('mnist_784', version=1)\n",
    "U0, v0 = mnist[\"data\"], mnist[\"target\"]\n",
    "U= U0.astype(np.double)\n",
    "v = v0.astype(np.uint8)"
   ]
  },
  {
   "cell_type": "markdown",
   "metadata": {},
   "source": [
    "#### Change labels to {-1,+1} for binary classification "
   ]
  },
  {
   "cell_type": "code",
   "execution_count": 9,
   "metadata": {},
   "outputs": [],
   "source": [
    "v_bin_5_lst = [2*int(v[i]==5)-1 for i in range(len(v))]"
   ]
  },
  {
   "cell_type": "markdown",
   "metadata": {},
   "source": [
    "#### Create a single dataframe of the attributes and labels"
   ]
  },
  {
   "cell_type": "code",
   "execution_count": 10,
   "metadata": {},
   "outputs": [],
   "source": [
    "df_U = pd.DataFrame(data=U)\n",
    "df_v = pd.DataFrame(data=np.asarray(v_bin_5_lst),  columns=['label'])\n",
    "df_data_merged =pd.concat([df_U, df_v.reindex(df_U.index)], axis=1)\n",
    "#df_data_merged.head()"
   ]
  },
  {
   "cell_type": "code",
   "execution_count": 162,
   "metadata": {},
   "outputs": [],
   "source": [
    "n_attributes = 1000\n",
    "n_labels = 50000\n",
    "np.random.seed(1)\n",
    "mu, sigma = 1,0.5\n",
    "\n",
    "rnd_data = np.random.normal(mu, sigma, size=[n_labels,n_attributes])\n",
    "rnd_labels = 2*np.reshape(np.random.randint(2, size=n_labels),(n_labels,1)) - np.ones((n_labels,1))\n",
    "df_rnd_data = pd.DataFrame(data=rnd_data )\n",
    "#df_rnd_labels = pd.DataFrame(data=np.asarray(v_bin_5_lst),  columns=['label'])\n",
    "df_rnd_labels = pd.DataFrame(data=rnd_labels,  columns=['label'])\n",
    "df_data_merged_rnd =pd.concat([df_rnd_data, df_rnd_labels.reindex(df_rnd_data.index)], axis=1)\n",
    "#df_data_merged_rnd.head()"
   ]
  },
  {
   "cell_type": "markdown",
   "metadata": {},
   "source": [
    "#### Shuffle and split the data to $m$ local training sets and a test set"
   ]
  },
  {
   "cell_type": "code",
   "execution_count": 12,
   "metadata": {},
   "outputs": [],
   "source": [
    "def split_train_test(df_data_merged, train_set_size,test_set_size,m):\n",
    "    np.random.seed(0)\n",
    "    shuffled_indices = np.random.permutation(len(df_data_merged))\n",
    "    batch_size = int(train_set_size/m)\n",
    "    dic_train_sets_indices= {}\n",
    "    dic_train_sets = {}\n",
    "    for i in range(m):\n",
    "        dic_train_sets_indices[i] = shuffled_indices[i*batch_size:(i+1)*batch_size]\n",
    "        dic_train_sets[i] = df_data_merged.iloc[dic_train_sets_indices[i]]\n",
    "    dic_train_set = {}\n",
    "    dic_train_set_indices = shuffled_indices[:m*batch_size]\n",
    "    dic_train_set[0] = df_data_merged.iloc[dic_train_set_indices]\n",
    "    dic_test_set= {}\n",
    "    test_indices = shuffled_indices[-test_set_size:]\n",
    "    dic_test_set[0] = df_data_merged.iloc[test_indices]\n",
    "    return dic_train_set, dic_train_sets, dic_test_set"
   ]
  },
  {
   "cell_type": "markdown",
   "metadata": {},
   "source": [
    "#### Choose the communication network "
   ]
  },
  {
   "cell_type": "code",
   "execution_count": 60,
   "metadata": {},
   "outputs": [],
   "source": [
    "def W_matrix(graph_name,m):\n",
    "    output = np.zeros((m,m))\n",
    "    if m==1:\n",
    "        output =np.array([[1]])\n",
    "    elif graph_name == \"Ring\":\n",
    "        for i in range(m):\n",
    "            output[i,i]=(5/(1+5)) #0.5\n",
    "            #output[i, np.remainder(i+1,m)]=(1/(1+5)) #0.25\n",
    "            output[np.remainder(i+1,m) ,i]=(1/(1+5)) #0.25\n",
    "    elif graph_name == \"Complete\":\n",
    "        output = np.ones((m,m))/(m+4) #np.ones((m,m))/(2*(m-1))\n",
    "        for i in range(m):\n",
    "            output[i,i]= (5/(m+4))   #0.5\n",
    "        #output = np.ones((m,m))/m \n",
    "    elif graph_name == \"Line\":\n",
    "        for i in range(m-1):\n",
    "            output[i,i]=0.5\n",
    "            output[i+1 ,i]=0.5\n",
    "        output[0,0]=1\n",
    "        output[m-1,m-1]=0.5\n",
    "        output[2,1]=0\n",
    "        output[2,2]=1\n",
    "    else:\n",
    "        print(\"The graph name is unknown!\")\n",
    "    return output"
   ]
  },
  {
   "cell_type": "markdown",
   "metadata": {},
   "source": [
    "We used metropolitian rule for assigning the weights ($w_{i,j}$) above."
   ]
  },
  {
   "cell_type": "markdown",
   "metadata": {},
   "source": [
    "#### Average function for computing Mean of samples"
   ]
  },
  {
   "cell_type": "code",
   "execution_count": 87,
   "metadata": {},
   "outputs": [],
   "source": [
    "def average(x, epoch_size):\n",
    "    avg= np.zeros(epoch_size+1)\n",
    "    for e in range(epoch_size+1):\n",
    "        avg[e] = np.mean(x[e,:])\n",
    "    return avg"
   ]
  },
  {
   "cell_type": "markdown",
   "metadata": {},
   "source": [
    "#### Define global objective function and local gradient mappings\n",
    "\n",
    "Note that the *split_train_test* function returns **dataframes** of size **(labels $\\times$ attrs)**."
   ]
  },
  {
   "cell_type": "code",
   "execution_count": 198,
   "metadata": {},
   "outputs": [],
   "source": [
    "def f_obj_global(x,dic_train,mu_param,m):\n",
    "    output = sum([f_obj_local(x,dic_train[i],mu_param,m) for i in range(m)])\n",
    "    return output\n",
    "\n",
    "def f_obj_local(y,df_data,mu_param,m):\n",
    "    npar_data= (df_data).to_numpy()\n",
    "    nparr_data_transp = npar_data.T\n",
    "    data = nparr_data_transp[:-1,:]\n",
    "    labels =nparr_data_transp[-1:,:]\n",
    "    n_attributes,n_labels = np.shape(data)\n",
    "    x=y.reshape((n_attributes,1))\n",
    "    v1 = np.dot(data.T,x) \n",
    "    v2 = -np.multiply(labels.T,v1)\n",
    "    obj_val = 0\n",
    "    obj_val = sum([v2[i,0] if v2[i,0] > 709 else log(1+exp(v2[i,0])) for i in range(n_labels)])\n",
    "    output = obj_val/N + mu_param*np.dot(x.T,x)/(2*m)\n",
    "    return output\n",
    "\n",
    "def grad_f_local(x,df_data,mu_param,m):\n",
    "    npar_data= (df_data).to_numpy()\n",
    "    nparr_data_transp = npar_data.T\n",
    "    data = nparr_data_transp[:-1,:]\n",
    "    labels =nparr_data_transp[-1:,:]\n",
    "    n_attributes,n_labels = np.shape(data)\n",
    "    output = np.zeros((n_attributes,1))\n",
    "    output = sum(-(labels[0,i]/(1+exp(min(709,labels[0,i]*np.dot(data[:,i],x)))))*data[:,[i]] for i in range(n_labels)) \n",
    "    return output/N +mu_param*x/m\n",
    "\n",
    "def grad_f_matrix(x_matrix,dic_train_sets,mu_param):\n",
    "    (m,n) = np.shape(x_matrix)\n",
    "    output = np.zeros((m,n))\n",
    "    for i in range(m):\n",
    "        x = x_matrix[i,:].reshape((n,1))\n",
    "        grad_vec = grad_f_local(x,dic_train_sets[i],mu_param,m)\n",
    "        output[i,:] = grad_vec.reshape((1,n))\n",
    "    return output\n",
    "\n",
    "def stoch_grad_f_local(x,df_data,mu_param,m,batch_size,batch_indx_row):\n",
    "    npar_data= (df_data).to_numpy()\n",
    "    nparr_data_transp = npar_data.T\n",
    "    data = nparr_data_transp[:-1,:]\n",
    "    labels =nparr_data_transp[-1:,:]\n",
    "    n_attributes,n_labels = np.shape(data)\n",
    "    output = np.zeros((n_attributes,1))\n",
    "    output = sum(-(labels[0,i]/(1+exp(min(709,labels[0,i]*np.dot(data[:,i],x)))))*data[:,[i]] for i in batch_indx_row)\n",
    "    return output/N +mu_param*x/m\n",
    "\n",
    "def stoch_grad_f_matrix(x_matrix,dic_train_sets,mu_param,batch_size,batch_indx_matrix):\n",
    "    (m,n) = np.shape(x_matrix)\n",
    "    output = np.zeros((m,n))\n",
    "    for i in range(m):\n",
    "        x = x_matrix[i,:].reshape((n,1))\n",
    "        grad_vec = stoch_grad_f_local(x,dic_train_sets[i],mu_param,m,batch_size,batch_indx_matrix[i,:])\n",
    "        output[i,:] = grad_vec.reshape((1,n))\n",
    "    return output\n"
   ]
  },
  {
   "cell_type": "markdown",
   "metadata": {},
   "source": [
    "####  Define Algorithms"
   ]
  },
  {
   "cell_type": "code",
   "execution_count": 208,
   "metadata": {},
   "outputs": [],
   "source": [
    "def DSGT(dic_train_sets,grad_update,epoch_size,x0,G_W_name,init_step_size,mu_param,batch_size,train_set_size,Gamma,samples):\n",
    "    (m,n) = np.shape(x0)\n",
    "    W = W_matrix(G_W_name,m)   \n",
    "    f_vals = np.zeros([epoch_size+1,samples])\n",
    "    consensus_err_vals = np.zeros([epoch_size+1,samples])\n",
    "    max_iter = int(grad_update*(train_set_size/(m*batch_size)))\n",
    "    for s in range(samples):\n",
    "        x_matrix_next = x0\n",
    "        batch_indx_matrix_next=np.random.randint(int(train_set_size/m), size=(m,batch_size))\n",
    "        grad_f_matrix_next = stoch_grad_f_matrix(x_matrix_next,dic_train_sets,mu_param,batch_size,batch_indx_matrix_next)\n",
    "        epoch_index = 0\n",
    "        for k in range(max_iter+1):\n",
    "            x_matrix_now = x_matrix_next\n",
    "            grad_f_matrix_now = grad_f_matrix_next\n",
    "            batch_indx_matrix_now=batch_indx_matrix_next\n",
    "            batch_indx_matrix_next=np.random.randint(int(train_set_size/m), size=(m,batch_size))\n",
    "            x_matrix_next = np.dot(W,x_matrix_now - np.dot(np.diag(init_step_size[0]/(k+Gamma)),grad_f_matrix_now))\n",
    "            grad_f_matrix_next = np.dot(W,grad_f_matrix_now)+stoch_grad_f_matrix(x_matrix_next,dic_train_sets,mu_param,batch_size,batch_indx_matrix_next)-stoch_grad_f_matrix(x_matrix_now,dic_train_sets,mu_param,batch_size,batch_indx_matrix_now)\n",
    "            if max_iter==0 or (k % ceil(max_iter/epoch_size)) == 0:\n",
    "                if m == 1:\n",
    "                    x_ave = x_matrix_now[0]\n",
    "                else:\n",
    "                    x_ave = x_matrix_now.mean(0)\n",
    "                f_vals[epoch_index,s] = f_obj_global(x_ave,dic_train_sets,mu_param,m)\n",
    "                consensus_err_vals[epoch_index,s] = LA.norm(x_matrix_now-np.dot(np.ones((m,1)),x_ave.reshape(1,n)))\n",
    "                epoch_index += 1\n",
    "    f_vals_fin = average(f_vals,epoch_size)\n",
    "    consensus_err_vals_fin = average(consensus_err_vals,epoch_size)\n",
    "    return x_matrix_next.mean(0), f_vals_fin, consensus_err_vals_fin"
   ]
  },
  {
   "cell_type": "code",
   "execution_count": 209,
   "metadata": {},
   "outputs": [],
   "source": [
    "def SONATA(dic_train_sets,grad_update,epoch_size,x0,G_W_name,init_step_size,mu_param,train_set_size,Gamma,samples):\n",
    "    (m,n) = np.shape(x0)\n",
    "    W = W_matrix(G_W_name,m)   \n",
    "    f_vals = np.zeros([epoch_size+1,samples])\n",
    "    consensus_err_vals = np.zeros([epoch_size+1,samples])\n",
    "    max_iter = grad_update\n",
    "    for s in range(samples):\n",
    "        x_matrix_next = x0\n",
    "        grad_f_matrix_next = grad_f_matrix(x_matrix_next,dic_train_sets,mu_param) \n",
    "        epoch_index = 0\n",
    "        for k in range(max_iter+1):\n",
    "            x_matrix_now = x_matrix_next\n",
    "            grad_f_matrix_now = grad_f_matrix_next\n",
    "            x_matrix_next = np.dot(W,x_matrix_now - np.dot(np.diag(init_step_size[0]/(k+Gamma)),grad_f_matrix_now))\n",
    "            grad_f_matrix_next = np.dot(W,grad_f_matrix_now)+ np.dot(W,grad_f_matrix(x_matrix_next,dic_train_sets,mu_param))-np.dot(W,grad_f_matrix(x_matrix_now,dic_train_sets,mu_param))\n",
    "            if max_iter==0 or (k % ceil(max_iter/epoch_size)) == 0:\n",
    "                if m == 1:\n",
    "                    x_ave = x_matrix_now[0]\n",
    "                else:\n",
    "                    x_ave = x_matrix_now.mean(0)\n",
    "                f_vals[epoch_index,s] = f_obj_global(x_ave,dic_train_sets,mu_param,m)\n",
    "                consensus_err_vals[epoch_index,s] = LA.norm(x_matrix_now-np.dot(np.ones((m,1)),x_ave.reshape(1,n)))\n",
    "                epoch_index += 1\n",
    "    f_vals_fin = average(f_vals,epoch_size)\n",
    "    consensus_err_vals_fin = average(consensus_err_vals,epoch_size)\n",
    "    return x_matrix_next.mean(0), f_vals_fin, consensus_err_vals_fin"
   ]
  },
  {
   "cell_type": "markdown",
   "metadata": {},
   "source": [
    "#### Assign the dataset and hyperparameters"
   ]
  },
  {
   "cell_type": "code",
   "execution_count": 231,
   "metadata": {},
   "outputs": [],
   "source": [
    "epoch_size = 5\n",
    "grad_updates = 10 \n",
    "Gamma=10000\n",
    "gamma_step = 10\n",
    "mu_param = 10**(-2)\n",
    "samples = 5\n",
    "\n",
    "train_set_size,test_set_size = 1000,0 "
   ]
  },
  {
   "cell_type": "code",
   "execution_count": 232,
   "metadata": {},
   "outputs": [],
   "source": [
    "data = [df_data_merged,df_data_merged_rnd]\n",
    "name_data = [\"MNIST\",\"Synthetic\"]\n",
    "graph = [\"Complete\",\"Ring\"]\n",
    "agents= [5]\n",
    "dataset = data[1]\n",
    "data_name = name_data[1]\n",
    "data_impl = dataset"
   ]
  },
  {
   "cell_type": "markdown",
   "metadata": {},
   "source": [
    "#### Main Function"
   ]
  },
  {
   "cell_type": "code",
   "execution_count": 233,
   "metadata": {},
   "outputs": [
    {
     "data": {
      "text/plain": [
       "<Figure size 864x432 with 0 Axes>"
      ]
     },
     "metadata": {},
     "output_type": "display_data"
    },
    {
     "data": {
      "image/png": "[encoded data removed]",
      "text/plain": [
       "<Figure size 432x288 with 1 Axes>"
      ]
     },
     "metadata": {
      "needs_background": "light"
     },
     "output_type": "display_data"
    },
    {
     "data": {
      "image/png": "[encoded data removed]",
      "text/plain": [
       "<Figure size 432x288 with 1 Axes>"
      ]
     },
     "metadata": {
      "needs_background": "light"
     },
     "output_type": "display_data"
    }
   ],
   "source": [
    "for k in range(len(agents)):\n",
    "    m = agents[k]\n",
    "    fig = plt.figure(figsize=(12,6))\n",
    "    dic_train_set, dic_train_sets, dic_test_set = split_train_test(data_impl, train_set_size,test_set_size,m)\n",
    "    n_attributes = len(data_impl.columns)-1\n",
    "    N = train_set_size\n",
    "    batch_size = 1\n",
    "    \n",
    "    init_step_size = gamma_step*np.ones((1,m))\n",
    "    np.random.seed(123)\n",
    "    x0_DRBSGT = np.random.rand(m,n_attributes) \n",
    "    np.random.seed(123)\n",
    "    f_vals1 = np.zeros([epoch_size+1,samples])\n",
    "    f_vals2 = np.zeros([epoch_size+1,samples])\n",
    "    consensus_err_vals1 = np.zeros([epoch_size+1,samples])\n",
    "    consensus_err_vals2 = np.zeros([epoch_size+1,samples])\n",
    "    \n",
    "    G_W_name = graph[0]  ### Complete Graph\n",
    "    ### DSGT ###\n",
    "    np.random.seed(123)\n",
    "    x_sol1,f_vals1, consensus_err_vals1 = DSGT(dic_train_sets,grad_updates,epoch_size,x0_DRBSGT,\n",
    "                                                 G_W_name,init_step_size,mu_param,batch_size,\n",
    "                                                 train_set_size,Gamma,samples)\n",
    "    np.random.seed(123)\n",
    "    ### SONATA ###\n",
    "    np.random.seed(123)\n",
    "    x0_DSGT = x0_DRBSGT.copy()\n",
    "    np.random.seed(123)\n",
    "    x_sol2,f_vals2, consensus_err_vals2 = SONATA(dic_train_sets,grad_updates,epoch_size,x0_DSGT,\n",
    "                                               G_W_name,init_step_size,mu_param,train_set_size,\n",
    "                                                 Gamma,samples)\n",
    "    np.random.seed(123)\n",
    "    \n",
    "    plt.figure()\n",
    "    plt.title(data_name+\" dataset: Agents = \"+str(m))\n",
    "    \n",
    "    plt.plot(range(0,grad_updates+1,ceil(grad_updates/epoch_size)), np.log(f_vals1),color='blue',\n",
    "         marker='v',markersize=8,linestyle='solid',label=\"DSGT: \"+G_W_name+\" graph\",linewidth=2)\n",
    "    plt.plot(range(0,grad_updates+1,ceil(grad_updates/epoch_size)), np.log(f_vals2),color='orange',\n",
    "         marker='o',markersize=8,linestyle='dashed',label=\"SONATA: \"+G_W_name+\" graph\",linewidth=2)\n",
    "    plt.legend(loc=1,fontsize=8)\n",
    "    \n",
    "    plt.xlabel('No. of local gradient evaluations',fontsize = 14)\n",
    "    plt.ylabel('log $(\\sum_{i=1}^mf_i(\\overline{x}_k))$', fontsize = 14)\n",
    "    plt.grid(True)\n",
    "    plt.show()\n",
    "    plt.figure()\n",
    "    plt.title(data_name+\" dataset: Agents = \"+str(m))\n",
    "    \n",
    "    plt.plot(range(0,grad_updates+1,ceil(grad_updates/epoch_size)), np.log(consensus_err_vals1),\n",
    "             color='blue',marker='v',markersize=8,linestyle='solid',label=\"DSGT: \"+G_W_name+\" graph\",linewidth=2)\n",
    "    plt.plot(range(0,grad_updates+1,ceil(grad_updates/epoch_size)), np.log(consensus_err_vals2),\n",
    "             color='orange',marker='o',markersize=8,linestyle='dashed',label=\"SONATA: \"+G_W_name+\" graph\",linewidth=2)\n",
    "    plt.legend(loc=1,fontsize=8)\n",
    "    \n",
    "    plt.xlabel('No. of local gradient evaluations',fontsize = 14) \n",
    "    plt.ylabel('log $(\\|x_k - \\mathbf{1}\\overline{x}_k\\|)$', fontsize = 14)\n",
    "    plt.grid(True)\n",
    "    #plt.savefig(\"Consensus.pdf\")\n",
    "    plt.show()"
   ]
  },
  {
   "cell_type": "code",
   "execution_count": 234,
   "metadata": {},
   "outputs": [
    {
     "data": {
      "text/plain": [
       "array([248.86448407, 248.57093177, 248.28932053, 248.01561416,\n",
       "       247.75321455, 247.49929078])"
      ]
     },
     "execution_count": 234,
     "metadata": {},
     "output_type": "execute_result"
    }
   ],
   "source": [
    "f_vals1"
   ]
  },
  {
   "cell_type": "code",
   "execution_count": 235,
   "metadata": {},
   "outputs": [
    {
     "data": {
      "text/plain": [
       "array([248.86448407, 248.76344481, 248.66242656, 248.56142932,\n",
       "       248.46045307, 248.3594978 ])"
      ]
     },
     "execution_count": 235,
     "metadata": {},
     "output_type": "execute_result"
    }
   ],
   "source": [
    "f_vals2"
   ]
  },
  {
   "cell_type": "code",
   "execution_count": 238,
   "metadata": {},
   "outputs": [
    {
     "data": {
      "image/png": "[encoded data removed]",
      "text/plain": [
       "<Figure size 432x288 with 1 Axes>"
      ]
     },
     "metadata": {
      "needs_background": "light"
     },
     "output_type": "display_data"
    },
    {
     "data": {
      "image/png": "[encoded data removed]",
      "text/plain": [
       "<Figure size 432x288 with 1 Axes>"
      ]
     },
     "metadata": {
      "needs_background": "light"
     },
     "output_type": "display_data"
    }
   ],
   "source": [
    "plt.figure()\n",
    "plt.title(data_name+\" dataset: Agents = \"+str(m))\n",
    "\n",
    "plt.plot(range(0,grad_updates+1,ceil(grad_updates/epoch_size)), (f_vals1),color='blue',\n",
    "     marker='v',markersize=8,linestyle='solid',label=\"DSGT: \"+G_W_name+\" graph\",linewidth=2)\n",
    "plt.plot(range(0,grad_updates+1,ceil(grad_updates/epoch_size)), (f_vals2),color='orange',\n",
    "     marker='o',markersize=8,linestyle='dashed',label=\"SONATA: \"+G_W_name+\" graph\",linewidth=2)\n",
    "plt.legend(loc=1,fontsize=8)\n",
    "\n",
    "plt.xlabel('No. of local gradient evaluations',fontsize = 14)\n",
    "plt.ylabel('$\\sum_{i=1}^mf_i(\\overline{x}_k)$', fontsize = 14)\n",
    "plt.grid(True)\n",
    "plt.show()\n",
    "plt.figure()\n",
    "plt.title(data_name+\" dataset: Agents = \"+str(m))\n",
    "\n",
    "plt.plot(range(0,grad_updates+1,ceil(grad_updates/epoch_size)), (consensus_err_vals1),\n",
    "         color='blue',marker='v',markersize=8,linestyle='solid',label=\"DSGT: \"+G_W_name+\" graph\",linewidth=2)\n",
    "plt.plot(range(0,grad_updates+1,ceil(grad_updates/epoch_size)), (consensus_err_vals2),\n",
    "         color='orange',marker='o',markersize=8,linestyle='dashed',label=\"SONATA: \"+G_W_name+\" graph\",linewidth=2)\n",
    "plt.legend(loc=1,fontsize=8)\n",
    "\n",
    "plt.xlabel('No. of local gradient evaluations',fontsize = 14) \n",
    "plt.ylabel('$\\|x_k - \\mathbf{1}\\overline{x}_k\\|$', fontsize = 14)\n",
    "plt.grid(True)\n",
    "#plt.savefig(\"Consensus.pdf\")\n",
    "plt.show()"
   ]
  },
  {
   "cell_type": "code",
   "execution_count": null,
   "metadata": {},
   "outputs": [],
   "source": []
  }
 ],
 "metadata": {
  "kernelspec": {
   "display_name": "Python 3",
   "language": "python",
   "name": "python3"
  },
  "language_info": {
   "codemirror_mode": {
    "name": "ipython",
    "version": 3
   },
   "file_extension": ".py",
   "mimetype": "text/x-python",
   "name": "python",
   "nbconvert_exporter": "python",
   "pygments_lexer": "ipython3",
   "version": "3.7.4"
  }
 },
 "nbformat": 4,
 "nbformat_minor": 2
}
